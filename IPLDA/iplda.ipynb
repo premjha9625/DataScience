{
 "cells": [
  {
   "cell_type": "code",
   "execution_count": 62,
   "metadata": {},
   "outputs": [],
   "source": [
    "import os\n",
    "import pandas as pd \n",
    "#from pandasai import PandasAI \n",
    "from pandasai import SmartDataframe\n",
    "# import pandasai\n",
    "# from pandasai.llm import OpenAI\n",
    "# from pandasai.llm import BambooLLM"
   ]
  },
  {
   "cell_type": "code",
   "execution_count": 63,
   "metadata": {},
   "outputs": [],
   "source": [
    "# os.environ[\"PANDASAI_API_KEY\"] = \"$2a$10$5vCk0P/8DGDFzS8zoALgS.ytEJg.oJB597P3EtTdjanbO3uQDh8Ba\"\n",
    "#PANDAS_API_KEY=\"$2a$10$og1ggI1AwW12m9Cvgv4lyOvGqkj5ArRH9RyMwtPZDvbkpyqGmJj8m\"\n",
    "#openaikey=\"sk-proj-codDS6tJdxxPSML1UfyST3BlbkFJBlC8AHROMeGDy5JTdDn8\"\n"
   ]
  },
  {
   "cell_type": "code",
   "execution_count": 64,
   "metadata": {},
   "outputs": [
    {
     "data": {
      "text/html": [
       "<div>\n",
       "<style scoped>\n",
       "    .dataframe tbody tr th:only-of-type {\n",
       "        vertical-align: middle;\n",
       "    }\n",
       "\n",
       "    .dataframe tbody tr th {\n",
       "        vertical-align: top;\n",
       "    }\n",
       "\n",
       "    .dataframe thead th {\n",
       "        text-align: right;\n",
       "    }\n",
       "</style>\n",
       "<table border=\"1\" class=\"dataframe\">\n",
       "  <thead>\n",
       "    <tr style=\"text-align: right;\">\n",
       "      <th></th>\n",
       "      <th>country</th>\n",
       "      <th>annual tax collected</th>\n",
       "      <th>happiness_index</th>\n",
       "    </tr>\n",
       "  </thead>\n",
       "  <tbody>\n",
       "    <tr>\n",
       "      <th>0</th>\n",
       "      <td>Delhi</td>\n",
       "      <td>19294482072</td>\n",
       "      <td>9.94</td>\n",
       "    </tr>\n",
       "    <tr>\n",
       "      <th>1</th>\n",
       "      <td>Mumbai</td>\n",
       "      <td>28916155672</td>\n",
       "      <td>7.16</td>\n",
       "    </tr>\n",
       "    <tr>\n",
       "      <th>2</th>\n",
       "      <td>Kolkata</td>\n",
       "      <td>24112550372</td>\n",
       "      <td>6.35</td>\n",
       "    </tr>\n",
       "    <tr>\n",
       "      <th>3</th>\n",
       "      <td>Chennai</td>\n",
       "      <td>34358173362</td>\n",
       "      <td>8.07</td>\n",
       "    </tr>\n",
       "    <tr>\n",
       "      <th>4</th>\n",
       "      <td>Jaipur</td>\n",
       "      <td>17454337886</td>\n",
       "      <td>6.98</td>\n",
       "    </tr>\n",
       "  </tbody>\n",
       "</table>\n",
       "</div>"
      ],
      "text/plain": [
       "   country  annual tax collected  happiness_index\n",
       "0    Delhi           19294482072             9.94\n",
       "1   Mumbai           28916155672             7.16\n",
       "2  Kolkata           24112550372             6.35\n",
       "3  Chennai           34358173362             8.07\n",
       "4   Jaipur           17454337886             6.98"
      ]
     },
     "execution_count": 64,
     "metadata": {},
     "output_type": "execute_result"
    }
   ],
   "source": [
    "dataframe = { \n",
    "\t\"country\": [ \n",
    "\t\t\"Delhi\", \n",
    "\t\t\"Mumbai\", \n",
    "\t\t\"Kolkata\", \n",
    "\t\t\"Chennai\", \n",
    "\t\t\"Jaipur\", \n",
    "\t\t\"Lucknow\", \n",
    "\t\t\"Pune\", \n",
    "\t\t\"Bengaluru\", \n",
    "\t\t\"Amritsar\", \n",
    "\t\t\"Agra\", \n",
    "\t], \n",
    "\t\"annual tax collected\": [ \n",
    "\t\t19294482072, \n",
    "\t\t28916155672, \n",
    "\t\t24112550372, \n",
    "\t\t34358173362, \n",
    "\t\t17454337886, \n",
    "\t\t11812051350, \n",
    "\t\t16074023894, \n",
    "\t\t14909678554, \n",
    "\t\t43807565410, \n",
    "\t\t146318441864, \n",
    "\t], \n",
    "\t\"happiness_index\": [9.94, 7.16, 6.35, 8.07, 6.98, 6.1, 4.23, 8.22, 6.87, 3.36], \n",
    "} \n",
    "# reading dataset \n",
    "df = pd.DataFrame(dataframe) \n",
    "df.head()\n"
   ]
  },
  {
   "cell_type": "code",
   "execution_count": 65,
   "metadata": {},
   "outputs": [
    {
     "name": "stderr",
     "output_type": "stream",
     "text": [
      "Traceback (most recent call last):\n",
      "  File \"/home/prem/.local/lib/python3.9/site-packages/pandasai/pipelines/chat/generate_chat_pipeline.py\", line 307, in run\n",
      "    output = (self.code_generation_pipeline | self.code_execution_pipeline).run(\n",
      "  File \"/home/prem/.local/lib/python3.9/site-packages/pandasai/pipelines/pipeline.py\", line 137, in run\n",
      "    raise e\n",
      "  File \"/home/prem/.local/lib/python3.9/site-packages/pandasai/pipelines/pipeline.py\", line 101, in run\n",
      "    step_output = logic.execute(\n",
      "  File \"/home/prem/.local/lib/python3.9/site-packages/pandasai/pipelines/chat/code_generator.py\", line 33, in execute\n",
      "    code = pipeline_context.config.llm.generate_code(input, pipeline_context)\n",
      "  File \"/home/prem/.local/lib/python3.9/site-packages/pandasai/llm/base.py\", line 200, in generate_code\n",
      "    response = self.call(instruction, context)\n",
      "  File \"/home/prem/.local/lib/python3.9/site-packages/pandasai/llm/bamboo_llm.py\", line 18, in call\n",
      "    response = self._session.post(\"/llm/chat\", json=data)\n",
      "  File \"/home/prem/.local/lib/python3.9/site-packages/pandasai/helpers/request.py\", line 37, in post\n",
      "    return self.make_request(\"POST\", path, **kwargs)\n",
      "  File \"/home/prem/.local/lib/python3.9/site-packages/pandasai/helpers/request.py\", line 71, in make_request\n",
      "    raise PandasAIApiCallError(data[\"message\"])\n",
      "pandasai.exceptions.PandasAIApiCallError: Unable to generate LLM response.\n"
     ]
    },
    {
     "data": {
      "text/plain": [
       "'Unfortunately, I was not able to answer your question, because of the following error:\\n\\nUnable to generate LLM response.\\n'"
      ]
     },
     "execution_count": 65,
     "metadata": {},
     "output_type": "execute_result"
    }
   ],
   "source": [
    "# response = pandasai(df, \"Calculate the total tax collected in north Indian cities\") \n",
    "# print(response)\n",
    "# llm = OpenAI(api_token=openaikey)\n",
    "\n",
    "#df = SmartDataframe(\"data.csv\", config={\"llm\": llm})\n",
    "#llm = BambooLLM(api_key=PANDAS_API_KEY)\n",
    "os.environ[\"PANDASAI_API_KEY\"] = \"$2a$10$og1ggI1AwW12m9Cvgv4lyOvGqkj5ArRH9RyMwtPZDvbkpyqGmJj8m\"\n",
    "sdf = SmartDataframe(df)\n",
    "sdf.chat('Calculate the total tax collected in north Indian cities')"
   ]
  }
 ],
 "metadata": {
  "kernelspec": {
   "display_name": "Python 3",
   "language": "python",
   "name": "python3"
  },
  "language_info": {
   "codemirror_mode": {
    "name": "ipython",
    "version": 3
   },
   "file_extension": ".py",
   "mimetype": "text/x-python",
   "name": "python",
   "nbconvert_exporter": "python",
   "pygments_lexer": "ipython3",
   "version": "3.9.18"
  }
 },
 "nbformat": 4,
 "nbformat_minor": 2
}
